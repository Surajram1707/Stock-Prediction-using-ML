{
 "metadata": {
  "language_info": {
   "codemirror_mode": {
    "name": "ipython",
    "version": 3
   },
   "file_extension": ".py",
   "mimetype": "text/x-python",
   "name": "python",
   "nbconvert_exporter": "python",
   "pygments_lexer": "ipython3",
   "version": "3.9.1-final"
  },
  "orig_nbformat": 2,
  "kernelspec": {
   "name": "python391jvsc74a57bd0f23fd2dc9925c75b60f7b62c4793afb65f787254432c657d85eaa8bc361c59a1",
   "display_name": "Python 3.9.1 64-bit"
  },
  "metadata": {
   "interpreter": {
    "hash": "f23fd2dc9925c75b60f7b62c4793afb65f787254432c657d85eaa8bc361c59a1"
   }
  }
 },
 "nbformat": 4,
 "nbformat_minor": 2,
 "cells": [
  {
   "cell_type": "code",
   "execution_count": 1,
   "metadata": {},
   "outputs": [],
   "source": [
    "import numpy as np\n",
    "import pandas as pd\n",
    "from sklearn import preprocessing\n",
    "from sklearn.model_selection import train_test_split\n",
    "from sklearn.linear_model import LinearRegression"
   ]
  },
  {
   "cell_type": "code",
   "execution_count": 2,
   "metadata": {},
   "outputs": [],
   "source": [
    "def prepare_data(df,forecast_col,forecast_out,test_size):\n",
    "    label = df[forecast_col].shift(-forecast_out) #creating new column called label with the last 5 rows are nan\n",
    "    X = np.array(df[[forecast_col]]) #creating the feature array\n",
    "    X = preprocessing.scale(X) #processing the feature array\n",
    "    X_lately = X[-forecast_out:] #creating the column i want to use later in the predicting method\n",
    "    X = X[:-forecast_out] # X that will contain the training and testing\n",
    "    label.dropna(inplace=True) #dropping na values\n",
    "    y = np.array(label)  # assigning Y\n",
    "    X_train, X_test, Y_train, Y_test = train_test_split(X, y, test_size=test_size, random_state=0) #cross validation\n",
    "\n",
    "    response = [X_train,X_test , Y_train, Y_test , X_lately]\n",
    "    return response"
   ]
  },
  {
   "cell_type": "code",
   "execution_count": 14,
   "metadata": {},
   "outputs": [],
   "source": [
    "df = pd.read_csv(\"prices.csv\")\n"
   ]
  },
  {
   "cell_type": "code",
   "execution_count": 15,
   "metadata": {},
   "outputs": [
    {
     "output_type": "execute_result",
     "data": {
      "text/plain": [
       "Date         0\n",
       "Open         0\n",
       "High         0\n",
       "Low          0\n",
       "Close        0\n",
       "Adj Close    0\n",
       "Volume       0\n",
       "dtype: int64"
      ]
     },
     "metadata": {},
     "execution_count": 15
    }
   ],
   "source": [
    "df.isna().sum()"
   ]
  },
  {
   "cell_type": "code",
   "execution_count": 16,
   "metadata": {},
   "outputs": [],
   "source": [
    "from sklearn.impute import SimpleImputer\n",
    "imputer = SimpleImputer(strategy='most_frequent')"
   ]
  },
  {
   "cell_type": "code",
   "execution_count": 17,
   "metadata": {},
   "outputs": [],
   "source": [
    "df = pd.DataFrame(imputer.fit_transform(df))\n",
    "df.columns = df.columns\n",
    "df.index = df.index"
   ]
  },
  {
   "cell_type": "code",
   "execution_count": 18,
   "metadata": {},
   "outputs": [
    {
     "output_type": "execute_result",
     "data": {
      "text/plain": [
       "0    0\n",
       "1    0\n",
       "2    0\n",
       "3    0\n",
       "4    0\n",
       "5    0\n",
       "6    0\n",
       "dtype: int64"
      ]
     },
     "metadata": {},
     "execution_count": 18
    }
   ],
   "source": [
    "df.isna().sum()"
   ]
  },
  {
   "cell_type": "code",
   "execution_count": 19,
   "metadata": {},
   "outputs": [
    {
     "output_type": "execute_result",
     "data": {
      "text/plain": [
       "              0          1          2          3          4          5  6\n",
       "0    2020-01-27      71.32  71.635002      71.32  71.324997  71.324997  0\n",
       "1    2020-01-28  71.654999  71.654999  71.178001  71.440002  71.440002  0\n",
       "2    2020-01-29  71.230103  71.425003  71.168503    71.2304    71.2304  0\n",
       "3    2020-01-30  71.300003  71.711998  71.300003  71.300003  71.300003  0\n",
       "4    2020-01-31  71.639999  71.639999  71.277496  71.639999  71.639999  0\n",
       "..          ...        ...        ...        ...        ...        ... ..\n",
       "257  2021-01-20  73.192001  73.192299    72.8993  73.191902  73.191902  0\n",
       "258  2021-01-21  72.907898  73.045303  72.883003  72.910896  72.910896  0\n",
       "259  2021-01-22  72.954903  73.237503  72.929001  72.954903  72.954903  0\n",
       "260  2021-01-25  72.995903  73.220001  72.877998  72.995903  72.995903  0\n",
       "261  2021-01-26  72.970001     73.222  72.774498  72.970001  72.970001  0\n",
       "\n",
       "[262 rows x 7 columns]"
      ],
      "text/html": "<div>\n<style scoped>\n    .dataframe tbody tr th:only-of-type {\n        vertical-align: middle;\n    }\n\n    .dataframe tbody tr th {\n        vertical-align: top;\n    }\n\n    .dataframe thead th {\n        text-align: right;\n    }\n</style>\n<table border=\"1\" class=\"dataframe\">\n  <thead>\n    <tr style=\"text-align: right;\">\n      <th></th>\n      <th>0</th>\n      <th>1</th>\n      <th>2</th>\n      <th>3</th>\n      <th>4</th>\n      <th>5</th>\n      <th>6</th>\n    </tr>\n  </thead>\n  <tbody>\n    <tr>\n      <th>0</th>\n      <td>2020-01-27</td>\n      <td>71.32</td>\n      <td>71.635002</td>\n      <td>71.32</td>\n      <td>71.324997</td>\n      <td>71.324997</td>\n      <td>0</td>\n    </tr>\n    <tr>\n      <th>1</th>\n      <td>2020-01-28</td>\n      <td>71.654999</td>\n      <td>71.654999</td>\n      <td>71.178001</td>\n      <td>71.440002</td>\n      <td>71.440002</td>\n      <td>0</td>\n    </tr>\n    <tr>\n      <th>2</th>\n      <td>2020-01-29</td>\n      <td>71.230103</td>\n      <td>71.425003</td>\n      <td>71.168503</td>\n      <td>71.2304</td>\n      <td>71.2304</td>\n      <td>0</td>\n    </tr>\n    <tr>\n      <th>3</th>\n      <td>2020-01-30</td>\n      <td>71.300003</td>\n      <td>71.711998</td>\n      <td>71.300003</td>\n      <td>71.300003</td>\n      <td>71.300003</td>\n      <td>0</td>\n    </tr>\n    <tr>\n      <th>4</th>\n      <td>2020-01-31</td>\n      <td>71.639999</td>\n      <td>71.639999</td>\n      <td>71.277496</td>\n      <td>71.639999</td>\n      <td>71.639999</td>\n      <td>0</td>\n    </tr>\n    <tr>\n      <th>...</th>\n      <td>...</td>\n      <td>...</td>\n      <td>...</td>\n      <td>...</td>\n      <td>...</td>\n      <td>...</td>\n      <td>...</td>\n    </tr>\n    <tr>\n      <th>257</th>\n      <td>2021-01-20</td>\n      <td>73.192001</td>\n      <td>73.192299</td>\n      <td>72.8993</td>\n      <td>73.191902</td>\n      <td>73.191902</td>\n      <td>0</td>\n    </tr>\n    <tr>\n      <th>258</th>\n      <td>2021-01-21</td>\n      <td>72.907898</td>\n      <td>73.045303</td>\n      <td>72.883003</td>\n      <td>72.910896</td>\n      <td>72.910896</td>\n      <td>0</td>\n    </tr>\n    <tr>\n      <th>259</th>\n      <td>2021-01-22</td>\n      <td>72.954903</td>\n      <td>73.237503</td>\n      <td>72.929001</td>\n      <td>72.954903</td>\n      <td>72.954903</td>\n      <td>0</td>\n    </tr>\n    <tr>\n      <th>260</th>\n      <td>2021-01-25</td>\n      <td>72.995903</td>\n      <td>73.220001</td>\n      <td>72.877998</td>\n      <td>72.995903</td>\n      <td>72.995903</td>\n      <td>0</td>\n    </tr>\n    <tr>\n      <th>261</th>\n      <td>2021-01-26</td>\n      <td>72.970001</td>\n      <td>73.222</td>\n      <td>72.774498</td>\n      <td>72.970001</td>\n      <td>72.970001</td>\n      <td>0</td>\n    </tr>\n  </tbody>\n</table>\n<p>262 rows × 7 columns</p>\n</div>"
     },
     "metadata": {},
     "execution_count": 19
    }
   ],
   "source": [
    "df"
   ]
  },
  {
   "cell_type": "code",
   "execution_count": 23,
   "metadata": {},
   "outputs": [],
   "source": [
    "forecast_col = 4\n",
    "forecast_out = 5\n",
    "test_size = 0.2"
   ]
  },
  {
   "cell_type": "code",
   "execution_count": 24,
   "metadata": {},
   "outputs": [
    {
     "output_type": "execute_result",
     "data": {
      "text/plain": [
       "LinearRegression()"
      ]
     },
     "metadata": {},
     "execution_count": 24
    }
   ],
   "source": [
    "X_train, X_test, Y_train, Y_test , X_lately =prepare_data(df,forecast_col,forecast_out,test_size); #calling the method were the cross validation and data preperation is in\n",
    "learner = LinearRegression() #initializing linear regression model\n",
    "\n",
    "learner.fit(X_train,Y_train) #training the linear regression model"
   ]
  },
  {
   "cell_type": "code",
   "execution_count": 25,
   "metadata": {},
   "outputs": [
    {
     "output_type": "stream",
     "name": "stdout",
     "text": [
      "{'test_score': 0.6391451783466715, 'forecast_set': array([73.37040254, 73.12634778, 73.16456803, 73.20017668, 73.1776807 ])}\n"
     ]
    }
   ],
   "source": [
    "score=learner.score(X_test,Y_test)#testing the linear regression model\n",
    "forecast= learner.predict(X_lately) #set that will contain the forecasted data\n",
    "response={}#creting json object\n",
    "response['test_score']=score\n",
    "response['forecast_set']=forecast\n",
    "\n",
    "print(response)"
   ]
  },
  {
   "cell_type": "code",
   "execution_count": null,
   "metadata": {},
   "outputs": [],
   "source": []
  },
  {
   "cell_type": "code",
   "execution_count": null,
   "metadata": {},
   "outputs": [],
   "source": []
  }
 ]
}